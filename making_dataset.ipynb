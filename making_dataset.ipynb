{
 "cells": [
  {
   "cell_type": "code",
   "execution_count": 1,
   "metadata": {},
   "outputs": [
    {
     "name": "stdout",
     "output_type": "stream",
     "text": [
      "Sampling rate : 16000\n"
     ]
    }
   ],
   "source": [
    "from scipy.io.wavfile import read\n",
    "from scipy import signal\n",
    "from scipy.fft import fftshift\n",
    "import numpy as np\n",
    "import glob\n",
    "import cv2\n",
    "\n",
    "wavfile = \"/Users/seiji/data/fan/id_00/normal/00000405.wav\"\n",
    "anowavfile = \"/Users/seiji/data/fan/id_00/abnormal/00000162.wav\"\n",
    "\n",
    "fs, data = read(wavfile)\n",
    "anofs, anodata = read(anowavfile)\n",
    "\n",
    "print (\"Sampling rate :\", fs)\n",
    "data = data[:,0]\n",
    "anodata = anodata[:,0]"
   ]
  },
  {
   "cell_type": "markdown",
   "metadata": {},
   "source": [
    "# making OK data"
   ]
  },
  {
   "cell_type": "code",
   "execution_count": 2,
   "metadata": {},
   "outputs": [],
   "source": [
    "fs = 16000\n",
    "\n",
    "files = glob.glob(\"/Users/seiji/data/fan/id_00/normal/*\")\n",
    "\n",
    "for i, file in enumerate(files):\n",
    "    \n",
    "    fs, data = read(file)\n",
    "    data = data[:,0]\n",
    "    f, t, Sxx = signal.spectrogram(data, fs)\n",
    "    \n",
    "    if i < int(0.7* len(files)):\n",
    "        cv2.imwrite(\"./data/train/0_ok/\"+ file.split('/')[-1].split('.')[-2]+ \".png\",Sxx)\n",
    "    else:\n",
    "        cv2.imwrite(\"./data/test/0_ok/\"+ file.split('/')[-1].split('.')[-2]+ \".png\",Sxx)    "
   ]
  },
  {
   "cell_type": "markdown",
   "metadata": {},
   "source": [
    "# making NG  data"
   ]
  },
  {
   "cell_type": "code",
   "execution_count": 3,
   "metadata": {},
   "outputs": [],
   "source": [
    "files = glob.glob(\"/Users/seiji/data/fan/id_00/abnormal/*\")\n",
    "\n",
    "for i, file in enumerate(files):\n",
    "    \n",
    "    fs, data = read(file)\n",
    "    data = data[:,0]\n",
    "    f, t, Sxx = signal.spectrogram(data, fs)\n",
    "    \n",
    "    if i < int(0.7* len(files)):\n",
    "        cv2.imwrite(\"./data/train/1_ng/\"+ file.split('/')[-1].split('.')[-2]+ \".png\",Sxx)\n",
    "    else:\n",
    "        cv2.imwrite(\"./data/test/1_ng/\"+ file.split('/')[-1].split('.')[-2]+ \".png\",Sxx)    "
   ]
  }
 ],
 "metadata": {
  "kernelspec": {
   "display_name": "Python 3",
   "language": "python",
   "name": "python3"
  },
  "language_info": {
   "codemirror_mode": {
    "name": "ipython",
    "version": 3
   },
   "file_extension": ".py",
   "mimetype": "text/x-python",
   "name": "python",
   "nbconvert_exporter": "python",
   "pygments_lexer": "ipython3",
   "version": "3.8.5"
  }
 },
 "nbformat": 4,
 "nbformat_minor": 4
}
